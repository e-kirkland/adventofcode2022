{
 "cells": [
  {
   "cell_type": "markdown",
   "metadata": {},
   "source": [
    "# Day 3"
   ]
  },
  {
   "cell_type": "code",
   "execution_count": 5,
   "metadata": {},
   "outputs": [],
   "source": [
    "import pandas as pd\n",
    "from ast import literal_eval"
   ]
  },
  {
   "cell_type": "code",
   "execution_count": 9,
   "metadata": {},
   "outputs": [],
   "source": [
    "with open('/Users/williamkirkland/Data/KDS/adventofcode/2022/data/day3.txt') as file:\n",
    "    master_list = [line.rstrip() for line in file]"
   ]
  },
  {
   "cell_type": "code",
   "execution_count": 10,
   "metadata": {},
   "outputs": [
    {
     "data": {
      "text/html": [
       "<div>\n",
       "<style scoped>\n",
       "    .dataframe tbody tr th:only-of-type {\n",
       "        vertical-align: middle;\n",
       "    }\n",
       "\n",
       "    .dataframe tbody tr th {\n",
       "        vertical-align: top;\n",
       "    }\n",
       "\n",
       "    .dataframe thead th {\n",
       "        text-align: right;\n",
       "    }\n",
       "</style>\n",
       "<table border=\"1\" class=\"dataframe\">\n",
       "  <thead>\n",
       "    <tr style=\"text-align: right;\">\n",
       "      <th></th>\n",
       "      <th>full_list</th>\n",
       "    </tr>\n",
       "  </thead>\n",
       "  <tbody>\n",
       "    <tr>\n",
       "      <th>0</th>\n",
       "      <td>[z, B, B, t, H, n, n, H, t, w, w, H, p, l, m, ...</td>\n",
       "    </tr>\n",
       "    <tr>\n",
       "      <th>1</th>\n",
       "      <td>[v, v, h, J, c, c, J, F, G, F, c, N, s, d, N, ...</td>\n",
       "    </tr>\n",
       "    <tr>\n",
       "      <th>2</th>\n",
       "      <td>[G, P, h, j, c, j, h, Z, D, j, W, t, n, S, V, H]</td>\n",
       "    </tr>\n",
       "    <tr>\n",
       "      <th>3</th>\n",
       "      <td>[B, N, h, H, V, h, r, G, N, V, T, b, D, H, d, ...</td>\n",
       "    </tr>\n",
       "    <tr>\n",
       "      <th>4</th>\n",
       "      <td>[l, v, t, s, f, b, s, q, z, w, S, n, J, c, v, ...</td>\n",
       "    </tr>\n",
       "  </tbody>\n",
       "</table>\n",
       "</div>"
      ],
      "text/plain": [
       "                                           full_list\n",
       "0  [z, B, B, t, H, n, n, H, t, w, w, H, p, l, m, ...\n",
       "1  [v, v, h, J, c, c, J, F, G, F, c, N, s, d, N, ...\n",
       "2   [G, P, h, j, c, j, h, Z, D, j, W, t, n, S, V, H]\n",
       "3  [B, N, h, H, V, h, r, G, N, V, T, b, D, H, d, ...\n",
       "4  [l, v, t, s, f, b, s, q, z, w, S, n, J, c, v, ..."
      ]
     },
     "execution_count": 10,
     "metadata": {},
     "output_type": "execute_result"
    }
   ],
   "source": [
    "df = pd.DataFrame(master_list, columns=['full_list'])\n",
    "df['full_list'] = df['full_list'].apply(lambda x: list(x))\n",
    "df.head()"
   ]
  },
  {
   "cell_type": "code",
   "execution_count": 11,
   "metadata": {},
   "outputs": [],
   "source": [
    "def split_list(a_list):\n",
    "    half = len(a_list)//2\n",
    "    return a_list[:half], a_list[half:]"
   ]
  },
  {
   "cell_type": "code",
   "execution_count": 12,
   "metadata": {},
   "outputs": [],
   "source": [
    "df['a'], df['b'] = zip(*df['full_list'].apply(split_list))"
   ]
  },
  {
   "cell_type": "code",
   "execution_count": 13,
   "metadata": {},
   "outputs": [
    {
     "data": {
      "text/html": [
       "<div>\n",
       "<style scoped>\n",
       "    .dataframe tbody tr th:only-of-type {\n",
       "        vertical-align: middle;\n",
       "    }\n",
       "\n",
       "    .dataframe tbody tr th {\n",
       "        vertical-align: top;\n",
       "    }\n",
       "\n",
       "    .dataframe thead th {\n",
       "        text-align: right;\n",
       "    }\n",
       "</style>\n",
       "<table border=\"1\" class=\"dataframe\">\n",
       "  <thead>\n",
       "    <tr style=\"text-align: right;\">\n",
       "      <th></th>\n",
       "      <th>full_list</th>\n",
       "      <th>a</th>\n",
       "      <th>b</th>\n",
       "    </tr>\n",
       "  </thead>\n",
       "  <tbody>\n",
       "    <tr>\n",
       "      <th>0</th>\n",
       "      <td>[z, B, B, t, H, n, n, H, t, w, w, H, p, l, m, ...</td>\n",
       "      <td>[z, B, B, t, H, n, n, H, t, w, w, H]</td>\n",
       "      <td>[p, l, m, l, R, l, z, P, L, C, p, p]</td>\n",
       "    </tr>\n",
       "    <tr>\n",
       "      <th>1</th>\n",
       "      <td>[v, v, h, J, c, c, J, F, G, F, c, N, s, d, N, ...</td>\n",
       "      <td>[v, v, h, J, c, c, J, F, G, F, c, N, s, d, N, ...</td>\n",
       "      <td>[Q, p, l, Q, M, R, L, Q, M, l, f, d, f, T, P, ...</td>\n",
       "    </tr>\n",
       "    <tr>\n",
       "      <th>2</th>\n",
       "      <td>[G, P, h, j, c, j, h, Z, D, j, W, t, n, S, V, H]</td>\n",
       "      <td>[G, P, h, j, c, j, h, Z]</td>\n",
       "      <td>[D, j, W, t, n, S, V, H]</td>\n",
       "    </tr>\n",
       "    <tr>\n",
       "      <th>3</th>\n",
       "      <td>[B, N, h, H, V, h, r, G, N, V, T, b, D, H, d, ...</td>\n",
       "      <td>[B, N, h, H, V, h, r, G, N, V, T, b, D, H, d, D]</td>\n",
       "      <td>[J, d, J, R, P, J, d, S, Q, Q, S, J, w, P, j, R]</td>\n",
       "    </tr>\n",
       "    <tr>\n",
       "      <th>4</th>\n",
       "      <td>[l, v, t, s, f, b, s, q, z, w, S, n, J, c, v, ...</td>\n",
       "      <td>[l, v, t, s, f, b, s, q, z]</td>\n",
       "      <td>[w, S, n, J, c, v, j, S, m]</td>\n",
       "    </tr>\n",
       "  </tbody>\n",
       "</table>\n",
       "</div>"
      ],
      "text/plain": [
       "                                           full_list  \\\n",
       "0  [z, B, B, t, H, n, n, H, t, w, w, H, p, l, m, ...   \n",
       "1  [v, v, h, J, c, c, J, F, G, F, c, N, s, d, N, ...   \n",
       "2   [G, P, h, j, c, j, h, Z, D, j, W, t, n, S, V, H]   \n",
       "3  [B, N, h, H, V, h, r, G, N, V, T, b, D, H, d, ...   \n",
       "4  [l, v, t, s, f, b, s, q, z, w, S, n, J, c, v, ...   \n",
       "\n",
       "                                                   a  \\\n",
       "0               [z, B, B, t, H, n, n, H, t, w, w, H]   \n",
       "1  [v, v, h, J, c, c, J, F, G, F, c, N, s, d, N, ...   \n",
       "2                           [G, P, h, j, c, j, h, Z]   \n",
       "3   [B, N, h, H, V, h, r, G, N, V, T, b, D, H, d, D]   \n",
       "4                        [l, v, t, s, f, b, s, q, z]   \n",
       "\n",
       "                                                   b  \n",
       "0               [p, l, m, l, R, l, z, P, L, C, p, p]  \n",
       "1  [Q, p, l, Q, M, R, L, Q, M, l, f, d, f, T, P, ...  \n",
       "2                           [D, j, W, t, n, S, V, H]  \n",
       "3   [J, d, J, R, P, J, d, S, Q, Q, S, J, w, P, j, R]  \n",
       "4                        [w, S, n, J, c, v, j, S, m]  "
      ]
     },
     "execution_count": 13,
     "metadata": {},
     "output_type": "execute_result"
    }
   ],
   "source": [
    "df.head()"
   ]
  },
  {
   "cell_type": "code",
   "execution_count": 15,
   "metadata": {},
   "outputs": [
    {
     "data": {
      "text/html": [
       "<div>\n",
       "<style scoped>\n",
       "    .dataframe tbody tr th:only-of-type {\n",
       "        vertical-align: middle;\n",
       "    }\n",
       "\n",
       "    .dataframe tbody tr th {\n",
       "        vertical-align: top;\n",
       "    }\n",
       "\n",
       "    .dataframe thead th {\n",
       "        text-align: right;\n",
       "    }\n",
       "</style>\n",
       "<table border=\"1\" class=\"dataframe\">\n",
       "  <thead>\n",
       "    <tr style=\"text-align: right;\">\n",
       "      <th></th>\n",
       "      <th>full_list</th>\n",
       "      <th>a</th>\n",
       "      <th>b</th>\n",
       "      <th>common</th>\n",
       "    </tr>\n",
       "  </thead>\n",
       "  <tbody>\n",
       "    <tr>\n",
       "      <th>0</th>\n",
       "      <td>[z, B, B, t, H, n, n, H, t, w, w, H, p, l, m, ...</td>\n",
       "      <td>[z, B, B, t, H, n, n, H, t, w, w, H]</td>\n",
       "      <td>[p, l, m, l, R, l, z, P, L, C, p, p]</td>\n",
       "      <td>[z]</td>\n",
       "    </tr>\n",
       "    <tr>\n",
       "      <th>1</th>\n",
       "      <td>[v, v, h, J, c, c, J, F, G, F, c, N, s, d, N, ...</td>\n",
       "      <td>[v, v, h, J, c, c, J, F, G, F, c, N, s, d, N, ...</td>\n",
       "      <td>[Q, p, l, Q, M, R, L, Q, M, l, f, d, f, T, P, ...</td>\n",
       "      <td>[d]</td>\n",
       "    </tr>\n",
       "    <tr>\n",
       "      <th>2</th>\n",
       "      <td>[G, P, h, j, c, j, h, Z, D, j, W, t, n, S, V, H]</td>\n",
       "      <td>[G, P, h, j, c, j, h, Z]</td>\n",
       "      <td>[D, j, W, t, n, S, V, H]</td>\n",
       "      <td>[j]</td>\n",
       "    </tr>\n",
       "    <tr>\n",
       "      <th>3</th>\n",
       "      <td>[B, N, h, H, V, h, r, G, N, V, T, b, D, H, d, ...</td>\n",
       "      <td>[B, N, h, H, V, h, r, G, N, V, T, b, D, H, d, D]</td>\n",
       "      <td>[J, d, J, R, P, J, d, S, Q, Q, S, J, w, P, j, R]</td>\n",
       "      <td>[d]</td>\n",
       "    </tr>\n",
       "    <tr>\n",
       "      <th>4</th>\n",
       "      <td>[l, v, t, s, f, b, s, q, z, w, S, n, J, c, v, ...</td>\n",
       "      <td>[l, v, t, s, f, b, s, q, z]</td>\n",
       "      <td>[w, S, n, J, c, v, j, S, m]</td>\n",
       "      <td>[v]</td>\n",
       "    </tr>\n",
       "  </tbody>\n",
       "</table>\n",
       "</div>"
      ],
      "text/plain": [
       "                                           full_list  \\\n",
       "0  [z, B, B, t, H, n, n, H, t, w, w, H, p, l, m, ...   \n",
       "1  [v, v, h, J, c, c, J, F, G, F, c, N, s, d, N, ...   \n",
       "2   [G, P, h, j, c, j, h, Z, D, j, W, t, n, S, V, H]   \n",
       "3  [B, N, h, H, V, h, r, G, N, V, T, b, D, H, d, ...   \n",
       "4  [l, v, t, s, f, b, s, q, z, w, S, n, J, c, v, ...   \n",
       "\n",
       "                                                   a  \\\n",
       "0               [z, B, B, t, H, n, n, H, t, w, w, H]   \n",
       "1  [v, v, h, J, c, c, J, F, G, F, c, N, s, d, N, ...   \n",
       "2                           [G, P, h, j, c, j, h, Z]   \n",
       "3   [B, N, h, H, V, h, r, G, N, V, T, b, D, H, d, D]   \n",
       "4                        [l, v, t, s, f, b, s, q, z]   \n",
       "\n",
       "                                                   b common  \n",
       "0               [p, l, m, l, R, l, z, P, L, C, p, p]    [z]  \n",
       "1  [Q, p, l, Q, M, R, L, Q, M, l, f, d, f, T, P, ...    [d]  \n",
       "2                           [D, j, W, t, n, S, V, H]    [j]  \n",
       "3   [J, d, J, R, P, J, d, S, Q, Q, S, J, w, P, j, R]    [d]  \n",
       "4                        [w, S, n, J, c, v, j, S, m]    [v]  "
      ]
     },
     "execution_count": 15,
     "metadata": {},
     "output_type": "execute_result"
    }
   ],
   "source": [
    "df['common'] = df.apply(lambda x: list(set(x['a']).intersection(x['b'])), axis=1)\n",
    "df.head()"
   ]
  },
  {
   "cell_type": "code",
   "execution_count": 16,
   "metadata": {},
   "outputs": [],
   "source": [
    "import string"
   ]
  },
  {
   "cell_type": "code",
   "execution_count": 24,
   "metadata": {},
   "outputs": [
    {
     "data": {
      "text/plain": [
       "(['a',\n",
       "  'b',\n",
       "  'c',\n",
       "  'd',\n",
       "  'e',\n",
       "  'f',\n",
       "  'g',\n",
       "  'h',\n",
       "  'i',\n",
       "  'j',\n",
       "  'k',\n",
       "  'l',\n",
       "  'm',\n",
       "  'n',\n",
       "  'o',\n",
       "  'p',\n",
       "  'q',\n",
       "  'r',\n",
       "  's',\n",
       "  't',\n",
       "  'u',\n",
       "  'v',\n",
       "  'w',\n",
       "  'x',\n",
       "  'y',\n",
       "  'z'],\n",
       " ['A',\n",
       "  'B',\n",
       "  'C',\n",
       "  'D',\n",
       "  'E',\n",
       "  'F',\n",
       "  'G',\n",
       "  'H',\n",
       "  'I',\n",
       "  'J',\n",
       "  'K',\n",
       "  'L',\n",
       "  'M',\n",
       "  'N',\n",
       "  'O',\n",
       "  'P',\n",
       "  'Q',\n",
       "  'R',\n",
       "  'S',\n",
       "  'T',\n",
       "  'U',\n",
       "  'V',\n",
       "  'W',\n",
       "  'X',\n",
       "  'Y',\n",
       "  'Z'])"
      ]
     },
     "execution_count": 24,
     "metadata": {},
     "output_type": "execute_result"
    }
   ],
   "source": [
    "lower_case = [x for x in string.ascii_lowercase]\n",
    "upper_case = [x for x in string.ascii_uppercase]\n",
    "lower_case, upper_case"
   ]
  },
  {
   "cell_type": "code",
   "execution_count": 29,
   "metadata": {},
   "outputs": [],
   "source": [
    "point_dict = {}\n",
    "for n in range(0, 26):\n",
    "    point_dict[lower_case[n]] = n+1\n",
    "\n",
    "for n in range(0,26):\n",
    "    point_dict[upper_case[n]] = n+27"
   ]
  },
  {
   "cell_type": "code",
   "execution_count": 31,
   "metadata": {},
   "outputs": [
    {
     "data": {
      "text/plain": [
       "38"
      ]
     },
     "execution_count": 31,
     "metadata": {},
     "output_type": "execute_result"
    }
   ],
   "source": [
    "point_dict['L']"
   ]
  },
  {
   "cell_type": "code",
   "execution_count": 32,
   "metadata": {},
   "outputs": [],
   "source": [
    "df['priority'] = df['common'].apply(lambda x: point_dict[x[0]])"
   ]
  },
  {
   "cell_type": "code",
   "execution_count": 33,
   "metadata": {},
   "outputs": [],
   "source": [
    "sum = df['priority'].sum()"
   ]
  },
  {
   "cell_type": "code",
   "execution_count": 34,
   "metadata": {},
   "outputs": [
    {
     "data": {
      "text/plain": [
       "7597"
      ]
     },
     "execution_count": 34,
     "metadata": {},
     "output_type": "execute_result"
    }
   ],
   "source": [
    "sum"
   ]
  },
  {
   "cell_type": "code",
   "execution_count": 47,
   "metadata": {},
   "outputs": [],
   "source": [
    "df = df.reset_index()"
   ]
  },
  {
   "cell_type": "code",
   "execution_count": 48,
   "metadata": {},
   "outputs": [
    {
     "data": {
      "text/html": [
       "<div>\n",
       "<style scoped>\n",
       "    .dataframe tbody tr th:only-of-type {\n",
       "        vertical-align: middle;\n",
       "    }\n",
       "\n",
       "    .dataframe tbody tr th {\n",
       "        vertical-align: top;\n",
       "    }\n",
       "\n",
       "    .dataframe thead th {\n",
       "        text-align: right;\n",
       "    }\n",
       "</style>\n",
       "<table border=\"1\" class=\"dataframe\">\n",
       "  <thead>\n",
       "    <tr style=\"text-align: right;\">\n",
       "      <th></th>\n",
       "      <th>index</th>\n",
       "      <th>full_list</th>\n",
       "      <th>a</th>\n",
       "      <th>b</th>\n",
       "      <th>common</th>\n",
       "      <th>priority</th>\n",
       "    </tr>\n",
       "  </thead>\n",
       "  <tbody>\n",
       "    <tr>\n",
       "      <th>0</th>\n",
       "      <td>0</td>\n",
       "      <td>[z, B, B, t, H, n, n, H, t, w, w, H, p, l, m, ...</td>\n",
       "      <td>[z, B, B, t, H, n, n, H, t, w, w, H]</td>\n",
       "      <td>[p, l, m, l, R, l, z, P, L, C, p, p]</td>\n",
       "      <td>[z]</td>\n",
       "      <td>26</td>\n",
       "    </tr>\n",
       "    <tr>\n",
       "      <th>1</th>\n",
       "      <td>1</td>\n",
       "      <td>[v, v, h, J, c, c, J, F, G, F, c, N, s, d, N, ...</td>\n",
       "      <td>[v, v, h, J, c, c, J, F, G, F, c, N, s, d, N, ...</td>\n",
       "      <td>[Q, p, l, Q, M, R, L, Q, M, l, f, d, f, T, P, ...</td>\n",
       "      <td>[d]</td>\n",
       "      <td>4</td>\n",
       "    </tr>\n",
       "    <tr>\n",
       "      <th>2</th>\n",
       "      <td>2</td>\n",
       "      <td>[G, P, h, j, c, j, h, Z, D, j, W, t, n, S, V, H]</td>\n",
       "      <td>[G, P, h, j, c, j, h, Z]</td>\n",
       "      <td>[D, j, W, t, n, S, V, H]</td>\n",
       "      <td>[j]</td>\n",
       "      <td>10</td>\n",
       "    </tr>\n",
       "    <tr>\n",
       "      <th>3</th>\n",
       "      <td>3</td>\n",
       "      <td>[B, N, h, H, V, h, r, G, N, V, T, b, D, H, d, ...</td>\n",
       "      <td>[B, N, h, H, V, h, r, G, N, V, T, b, D, H, d, D]</td>\n",
       "      <td>[J, d, J, R, P, J, d, S, Q, Q, S, J, w, P, j, R]</td>\n",
       "      <td>[d]</td>\n",
       "      <td>4</td>\n",
       "    </tr>\n",
       "    <tr>\n",
       "      <th>4</th>\n",
       "      <td>4</td>\n",
       "      <td>[l, v, t, s, f, b, s, q, z, w, S, n, J, c, v, ...</td>\n",
       "      <td>[l, v, t, s, f, b, s, q, z]</td>\n",
       "      <td>[w, S, n, J, c, v, j, S, m]</td>\n",
       "      <td>[v]</td>\n",
       "      <td>22</td>\n",
       "    </tr>\n",
       "  </tbody>\n",
       "</table>\n",
       "</div>"
      ],
      "text/plain": [
       "   index                                          full_list  \\\n",
       "0      0  [z, B, B, t, H, n, n, H, t, w, w, H, p, l, m, ...   \n",
       "1      1  [v, v, h, J, c, c, J, F, G, F, c, N, s, d, N, ...   \n",
       "2      2   [G, P, h, j, c, j, h, Z, D, j, W, t, n, S, V, H]   \n",
       "3      3  [B, N, h, H, V, h, r, G, N, V, T, b, D, H, d, ...   \n",
       "4      4  [l, v, t, s, f, b, s, q, z, w, S, n, J, c, v, ...   \n",
       "\n",
       "                                                   a  \\\n",
       "0               [z, B, B, t, H, n, n, H, t, w, w, H]   \n",
       "1  [v, v, h, J, c, c, J, F, G, F, c, N, s, d, N, ...   \n",
       "2                           [G, P, h, j, c, j, h, Z]   \n",
       "3   [B, N, h, H, V, h, r, G, N, V, T, b, D, H, d, D]   \n",
       "4                        [l, v, t, s, f, b, s, q, z]   \n",
       "\n",
       "                                                   b common  priority  \n",
       "0               [p, l, m, l, R, l, z, P, L, C, p, p]    [z]        26  \n",
       "1  [Q, p, l, Q, M, R, L, Q, M, l, f, d, f, T, P, ...    [d]         4  \n",
       "2                           [D, j, W, t, n, S, V, H]    [j]        10  \n",
       "3   [J, d, J, R, P, J, d, S, Q, Q, S, J, w, P, j, R]    [d]         4  \n",
       "4                        [w, S, n, J, c, v, j, S, m]    [v]        22  "
      ]
     },
     "execution_count": 48,
     "metadata": {},
     "output_type": "execute_result"
    }
   ],
   "source": [
    "df.head()"
   ]
  },
  {
   "cell_type": "code",
   "execution_count": 50,
   "metadata": {},
   "outputs": [],
   "source": [
    "df['group_id'] = df.apply(lambda x: x['index'] // 3, axis=1)"
   ]
  },
  {
   "cell_type": "code",
   "execution_count": 51,
   "metadata": {},
   "outputs": [
    {
     "data": {
      "text/html": [
       "<div>\n",
       "<style scoped>\n",
       "    .dataframe tbody tr th:only-of-type {\n",
       "        vertical-align: middle;\n",
       "    }\n",
       "\n",
       "    .dataframe tbody tr th {\n",
       "        vertical-align: top;\n",
       "    }\n",
       "\n",
       "    .dataframe thead th {\n",
       "        text-align: right;\n",
       "    }\n",
       "</style>\n",
       "<table border=\"1\" class=\"dataframe\">\n",
       "  <thead>\n",
       "    <tr style=\"text-align: right;\">\n",
       "      <th></th>\n",
       "      <th>index</th>\n",
       "      <th>full_list</th>\n",
       "      <th>a</th>\n",
       "      <th>b</th>\n",
       "      <th>common</th>\n",
       "      <th>priority</th>\n",
       "      <th>group_id</th>\n",
       "    </tr>\n",
       "  </thead>\n",
       "  <tbody>\n",
       "    <tr>\n",
       "      <th>0</th>\n",
       "      <td>0</td>\n",
       "      <td>[z, B, B, t, H, n, n, H, t, w, w, H, p, l, m, ...</td>\n",
       "      <td>[z, B, B, t, H, n, n, H, t, w, w, H]</td>\n",
       "      <td>[p, l, m, l, R, l, z, P, L, C, p, p]</td>\n",
       "      <td>[z]</td>\n",
       "      <td>26</td>\n",
       "      <td>0</td>\n",
       "    </tr>\n",
       "    <tr>\n",
       "      <th>1</th>\n",
       "      <td>1</td>\n",
       "      <td>[v, v, h, J, c, c, J, F, G, F, c, N, s, d, N, ...</td>\n",
       "      <td>[v, v, h, J, c, c, J, F, G, F, c, N, s, d, N, ...</td>\n",
       "      <td>[Q, p, l, Q, M, R, L, Q, M, l, f, d, f, T, P, ...</td>\n",
       "      <td>[d]</td>\n",
       "      <td>4</td>\n",
       "      <td>0</td>\n",
       "    </tr>\n",
       "    <tr>\n",
       "      <th>2</th>\n",
       "      <td>2</td>\n",
       "      <td>[G, P, h, j, c, j, h, Z, D, j, W, t, n, S, V, H]</td>\n",
       "      <td>[G, P, h, j, c, j, h, Z]</td>\n",
       "      <td>[D, j, W, t, n, S, V, H]</td>\n",
       "      <td>[j]</td>\n",
       "      <td>10</td>\n",
       "      <td>0</td>\n",
       "    </tr>\n",
       "    <tr>\n",
       "      <th>3</th>\n",
       "      <td>3</td>\n",
       "      <td>[B, N, h, H, V, h, r, G, N, V, T, b, D, H, d, ...</td>\n",
       "      <td>[B, N, h, H, V, h, r, G, N, V, T, b, D, H, d, D]</td>\n",
       "      <td>[J, d, J, R, P, J, d, S, Q, Q, S, J, w, P, j, R]</td>\n",
       "      <td>[d]</td>\n",
       "      <td>4</td>\n",
       "      <td>1</td>\n",
       "    </tr>\n",
       "    <tr>\n",
       "      <th>4</th>\n",
       "      <td>4</td>\n",
       "      <td>[l, v, t, s, f, b, s, q, z, w, S, n, J, c, v, ...</td>\n",
       "      <td>[l, v, t, s, f, b, s, q, z]</td>\n",
       "      <td>[w, S, n, J, c, v, j, S, m]</td>\n",
       "      <td>[v]</td>\n",
       "      <td>22</td>\n",
       "      <td>1</td>\n",
       "    </tr>\n",
       "  </tbody>\n",
       "</table>\n",
       "</div>"
      ],
      "text/plain": [
       "   index                                          full_list  \\\n",
       "0      0  [z, B, B, t, H, n, n, H, t, w, w, H, p, l, m, ...   \n",
       "1      1  [v, v, h, J, c, c, J, F, G, F, c, N, s, d, N, ...   \n",
       "2      2   [G, P, h, j, c, j, h, Z, D, j, W, t, n, S, V, H]   \n",
       "3      3  [B, N, h, H, V, h, r, G, N, V, T, b, D, H, d, ...   \n",
       "4      4  [l, v, t, s, f, b, s, q, z, w, S, n, J, c, v, ...   \n",
       "\n",
       "                                                   a  \\\n",
       "0               [z, B, B, t, H, n, n, H, t, w, w, H]   \n",
       "1  [v, v, h, J, c, c, J, F, G, F, c, N, s, d, N, ...   \n",
       "2                           [G, P, h, j, c, j, h, Z]   \n",
       "3   [B, N, h, H, V, h, r, G, N, V, T, b, D, H, d, D]   \n",
       "4                        [l, v, t, s, f, b, s, q, z]   \n",
       "\n",
       "                                                   b common  priority  \\\n",
       "0               [p, l, m, l, R, l, z, P, L, C, p, p]    [z]        26   \n",
       "1  [Q, p, l, Q, M, R, L, Q, M, l, f, d, f, T, P, ...    [d]         4   \n",
       "2                           [D, j, W, t, n, S, V, H]    [j]        10   \n",
       "3   [J, d, J, R, P, J, d, S, Q, Q, S, J, w, P, j, R]    [d]         4   \n",
       "4                        [w, S, n, J, c, v, j, S, m]    [v]        22   \n",
       "\n",
       "   group_id  \n",
       "0         0  \n",
       "1         0  \n",
       "2         0  \n",
       "3         1  \n",
       "4         1  "
      ]
     },
     "execution_count": 51,
     "metadata": {},
     "output_type": "execute_result"
    }
   ],
   "source": [
    "df.head()"
   ]
  },
  {
   "cell_type": "code",
   "execution_count": 69,
   "metadata": {},
   "outputs": [
    {
     "name": "stdout",
     "output_type": "stream",
     "text": [
      "<class 'pandas.core.frame.DataFrame'>\n"
     ]
    }
   ],
   "source": [
    "grouped = df.groupby('group_id', as_index=False)['full_list'].apply(list).reset_index()\n",
    "print(type(grouped))"
   ]
  },
  {
   "cell_type": "code",
   "execution_count": 72,
   "metadata": {},
   "outputs": [
    {
     "name": "stdout",
     "output_type": "stream",
     "text": [
      "Index(['index', 0], dtype='object')\n"
     ]
    },
    {
     "data": {
      "text/html": [
       "<div>\n",
       "<style scoped>\n",
       "    .dataframe tbody tr th:only-of-type {\n",
       "        vertical-align: middle;\n",
       "    }\n",
       "\n",
       "    .dataframe tbody tr th {\n",
       "        vertical-align: top;\n",
       "    }\n",
       "\n",
       "    .dataframe thead th {\n",
       "        text-align: right;\n",
       "    }\n",
       "</style>\n",
       "<table border=\"1\" class=\"dataframe\">\n",
       "  <thead>\n",
       "    <tr style=\"text-align: right;\">\n",
       "      <th></th>\n",
       "      <th>index</th>\n",
       "      <th>0</th>\n",
       "    </tr>\n",
       "  </thead>\n",
       "  <tbody>\n",
       "    <tr>\n",
       "      <th>0</th>\n",
       "      <td>0</td>\n",
       "      <td>[[z, B, B, t, H, n, n, H, t, w, w, H, p, l, m,...</td>\n",
       "    </tr>\n",
       "    <tr>\n",
       "      <th>1</th>\n",
       "      <td>1</td>\n",
       "      <td>[[B, N, h, H, V, h, r, G, N, V, T, b, D, H, d,...</td>\n",
       "    </tr>\n",
       "    <tr>\n",
       "      <th>2</th>\n",
       "      <td>2</td>\n",
       "      <td>[[V, S, S, H, c, T, g, T, t, T, d, t, l, l, Z,...</td>\n",
       "    </tr>\n",
       "    <tr>\n",
       "      <th>3</th>\n",
       "      <td>3</td>\n",
       "      <td>[[t, N, F, D, p, D, F, r, t, d, j, f, m, j, j,...</td>\n",
       "    </tr>\n",
       "    <tr>\n",
       "      <th>4</th>\n",
       "      <td>4</td>\n",
       "      <td>[[b, p, W, q, q, q, W, v, H, B, p, w, G, B, C,...</td>\n",
       "    </tr>\n",
       "  </tbody>\n",
       "</table>\n",
       "</div>"
      ],
      "text/plain": [
       "   index                                                  0\n",
       "0      0  [[z, B, B, t, H, n, n, H, t, w, w, H, p, l, m,...\n",
       "1      1  [[B, N, h, H, V, h, r, G, N, V, T, b, D, H, d,...\n",
       "2      2  [[V, S, S, H, c, T, g, T, t, T, d, t, l, l, Z,...\n",
       "3      3  [[t, N, F, D, p, D, F, r, t, d, j, f, m, j, j,...\n",
       "4      4  [[b, p, W, q, q, q, W, v, H, B, p, w, G, B, C,..."
      ]
     },
     "execution_count": 72,
     "metadata": {},
     "output_type": "execute_result"
    }
   ],
   "source": [
    "print(grouped.columns)\n",
    "grouped.head()"
   ]
  },
  {
   "cell_type": "code",
   "execution_count": 75,
   "metadata": {},
   "outputs": [],
   "source": [
    "grouped['common'] = grouped[0].apply(lambda x: list(set.intersection(*[set(list) for list in x]))[0])"
   ]
  },
  {
   "cell_type": "code",
   "execution_count": 77,
   "metadata": {},
   "outputs": [],
   "source": [
    "grouped['priority'] = grouped['common'].apply(lambda x: point_dict[x[0]])"
   ]
  },
  {
   "cell_type": "code",
   "execution_count": 78,
   "metadata": {},
   "outputs": [
    {
     "data": {
      "text/html": [
       "<div>\n",
       "<style scoped>\n",
       "    .dataframe tbody tr th:only-of-type {\n",
       "        vertical-align: middle;\n",
       "    }\n",
       "\n",
       "    .dataframe tbody tr th {\n",
       "        vertical-align: top;\n",
       "    }\n",
       "\n",
       "    .dataframe thead th {\n",
       "        text-align: right;\n",
       "    }\n",
       "</style>\n",
       "<table border=\"1\" class=\"dataframe\">\n",
       "  <thead>\n",
       "    <tr style=\"text-align: right;\">\n",
       "      <th></th>\n",
       "      <th>index</th>\n",
       "      <th>0</th>\n",
       "      <th>common</th>\n",
       "      <th>priority</th>\n",
       "    </tr>\n",
       "  </thead>\n",
       "  <tbody>\n",
       "    <tr>\n",
       "      <th>0</th>\n",
       "      <td>0</td>\n",
       "      <td>[[z, B, B, t, H, n, n, H, t, w, w, H, p, l, m,...</td>\n",
       "      <td>P</td>\n",
       "      <td>42</td>\n",
       "    </tr>\n",
       "    <tr>\n",
       "      <th>1</th>\n",
       "      <td>1</td>\n",
       "      <td>[[B, N, h, H, V, h, r, G, N, V, T, b, D, H, d,...</td>\n",
       "      <td>b</td>\n",
       "      <td>2</td>\n",
       "    </tr>\n",
       "    <tr>\n",
       "      <th>2</th>\n",
       "      <td>2</td>\n",
       "      <td>[[V, S, S, H, c, T, g, T, t, T, d, t, l, l, Z,...</td>\n",
       "      <td>Z</td>\n",
       "      <td>52</td>\n",
       "    </tr>\n",
       "    <tr>\n",
       "      <th>3</th>\n",
       "      <td>3</td>\n",
       "      <td>[[t, N, F, D, p, D, F, r, t, d, j, f, m, j, j,...</td>\n",
       "      <td>S</td>\n",
       "      <td>45</td>\n",
       "    </tr>\n",
       "    <tr>\n",
       "      <th>4</th>\n",
       "      <td>4</td>\n",
       "      <td>[[b, p, W, q, q, q, W, v, H, B, p, w, G, B, C,...</td>\n",
       "      <td>q</td>\n",
       "      <td>17</td>\n",
       "    </tr>\n",
       "  </tbody>\n",
       "</table>\n",
       "</div>"
      ],
      "text/plain": [
       "   index                                                  0 common  priority\n",
       "0      0  [[z, B, B, t, H, n, n, H, t, w, w, H, p, l, m,...      P        42\n",
       "1      1  [[B, N, h, H, V, h, r, G, N, V, T, b, D, H, d,...      b         2\n",
       "2      2  [[V, S, S, H, c, T, g, T, t, T, d, t, l, l, Z,...      Z        52\n",
       "3      3  [[t, N, F, D, p, D, F, r, t, d, j, f, m, j, j,...      S        45\n",
       "4      4  [[b, p, W, q, q, q, W, v, H, B, p, w, G, B, C,...      q        17"
      ]
     },
     "execution_count": 78,
     "metadata": {},
     "output_type": "execute_result"
    }
   ],
   "source": [
    "grouped.head()"
   ]
  },
  {
   "cell_type": "code",
   "execution_count": 80,
   "metadata": {},
   "outputs": [
    {
     "data": {
      "text/plain": [
       "2607"
      ]
     },
     "execution_count": 80,
     "metadata": {},
     "output_type": "execute_result"
    }
   ],
   "source": [
    "grouped_sum = grouped['priority'].sum()\n",
    "grouped_sum"
   ]
  },
  {
   "cell_type": "code",
   "execution_count": null,
   "metadata": {},
   "outputs": [],
   "source": []
  }
 ],
 "metadata": {
  "kernelspec": {
   "display_name": "Python 3.7.6",
   "language": "python",
   "name": "python3"
  },
  "language_info": {
   "codemirror_mode": {
    "name": "ipython",
    "version": 3
   },
   "file_extension": ".py",
   "mimetype": "text/x-python",
   "name": "python",
   "nbconvert_exporter": "python",
   "pygments_lexer": "ipython3",
   "version": "3.7.6"
  },
  "orig_nbformat": 4,
  "vscode": {
   "interpreter": {
    "hash": "40d3a090f54c6569ab1632332b64b2c03c39dcf918b08424e98f38b5ae0af88f"
   }
  }
 },
 "nbformat": 4,
 "nbformat_minor": 2
}

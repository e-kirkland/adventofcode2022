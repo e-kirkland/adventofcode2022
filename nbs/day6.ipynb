{
 "cells": [
  {
   "cell_type": "markdown",
   "metadata": {},
   "source": [
    "# Day 6"
   ]
  },
  {
   "cell_type": "code",
   "execution_count": 1,
   "metadata": {},
   "outputs": [],
   "source": [
    "import pandas as pd"
   ]
  },
  {
   "cell_type": "code",
   "execution_count": 13,
   "metadata": {},
   "outputs": [],
   "source": [
    "test_cases = [\n",
    "    ['mjqjpqmgbljsphdztnvjfqwrcgsmlb', 7],\n",
    "    ['bvwbjplbgvbhsrlpgdmjqwftvncz', 5],\n",
    "    ['nppdvjthqldpwncqszvftbrmjlhg', 6],\n",
    "    ['nznrnfrfntjfmvfwmzdfjlvtqnbhcprsg', 10],\n",
    "    ['zcfzfwzzqfrljwzlrfnpqdbhtmscgvjw', 11]\n",
    "]"
   ]
  },
  {
   "cell_type": "code",
   "execution_count": 14,
   "metadata": {},
   "outputs": [],
   "source": [
    "def find_marker(string, marker):\n",
    "    for n in range(0, len(string)-marker):\n",
    "        substring = string[n:n+marker]\n",
    "        if len(set(substring)) == marker:\n",
    "            return n+marker\n",
    "        else:\n",
    "            continue"
   ]
  },
  {
   "cell_type": "code",
   "execution_count": 15,
   "metadata": {},
   "outputs": [
    {
     "name": "stdout",
     "output_type": "stream",
     "text": [
      "7 7\n",
      "5 5\n",
      "6 6\n",
      "10 10\n",
      "11 11\n"
     ]
    }
   ],
   "source": [
    "for test in test_cases:\n",
    "    print(find_marker(test[0], 4), test[1])"
   ]
  },
  {
   "cell_type": "code",
   "execution_count": 16,
   "metadata": {},
   "outputs": [],
   "source": [
    "with open('/Users/williamkirkland/Data/KDS/adventofcode/2022/data/day6.txt') as file:\n",
    "    master_list = [line.rstrip() for line in file]"
   ]
  },
  {
   "cell_type": "code",
   "execution_count": 17,
   "metadata": {},
   "outputs": [
    {
     "data": {
      "text/plain": [
       "list"
      ]
     },
     "execution_count": 17,
     "metadata": {},
     "output_type": "execute_result"
    }
   ],
   "source": [
    "type(master_list)"
   ]
  },
  {
   "cell_type": "code",
   "execution_count": 18,
   "metadata": {},
   "outputs": [
    {
     "data": {
      "text/plain": [
       "1282"
      ]
     },
     "execution_count": 18,
     "metadata": {},
     "output_type": "execute_result"
    }
   ],
   "source": [
    "location = find_marker(master_list[0], 4)\n",
    "location"
   ]
  },
  {
   "cell_type": "code",
   "execution_count": 19,
   "metadata": {},
   "outputs": [],
   "source": [
    "test_strings = [\n",
    "    ['mjqjpqmgbljsphdztnvjfqwrcgsmlb', 19],\n",
    "    ['bvwbjplbgvbhsrlpgdmjqwftvncz', 23],\n",
    "    ['nppdvjthqldpwncqszvftbrmjlhg', 23],\n",
    "    ['nznrnfrfntjfmvfwmzdfjlvtqnbhcprsg', 29],\n",
    "    ['zcfzfwzzqfrljwzlrfnpqdbhtmscgvjw', 26],\n",
    "]"
   ]
  },
  {
   "cell_type": "code",
   "execution_count": 21,
   "metadata": {},
   "outputs": [
    {
     "name": "stdout",
     "output_type": "stream",
     "text": [
      "19 19\n",
      "23 23\n",
      "23 23\n",
      "29 29\n",
      "26 26\n"
     ]
    }
   ],
   "source": [
    "for test in test_strings:\n",
    "    print(find_marker(test[0], 14), test[1])"
   ]
  },
  {
   "cell_type": "code",
   "execution_count": 22,
   "metadata": {},
   "outputs": [
    {
     "data": {
      "text/plain": [
       "3513"
      ]
     },
     "execution_count": 22,
     "metadata": {},
     "output_type": "execute_result"
    }
   ],
   "source": [
    "location = find_marker(master_list[0], 14)\n",
    "location"
   ]
  },
  {
   "cell_type": "code",
   "execution_count": null,
   "metadata": {},
   "outputs": [],
   "source": []
  }
 ],
 "metadata": {
  "kernelspec": {
   "display_name": "Python 3.7.6",
   "language": "python",
   "name": "python3"
  },
  "language_info": {
   "codemirror_mode": {
    "name": "ipython",
    "version": 3
   },
   "file_extension": ".py",
   "mimetype": "text/x-python",
   "name": "python",
   "nbconvert_exporter": "python",
   "pygments_lexer": "ipython3",
   "version": "3.7.6"
  },
  "orig_nbformat": 4,
  "vscode": {
   "interpreter": {
    "hash": "40d3a090f54c6569ab1632332b64b2c03c39dcf918b08424e98f38b5ae0af88f"
   }
  }
 },
 "nbformat": 4,
 "nbformat_minor": 2
}

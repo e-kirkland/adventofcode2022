{
 "cells": [
  {
   "cell_type": "markdown",
   "metadata": {},
   "source": [
    "# Day 5"
   ]
  },
  {
   "cell_type": "code",
   "execution_count": 2,
   "metadata": {},
   "outputs": [],
   "source": [
    "import pandas as pd"
   ]
  },
  {
   "cell_type": "code",
   "execution_count": 4,
   "metadata": {},
   "outputs": [],
   "source": [
    "import re"
   ]
  },
  {
   "cell_type": "code",
   "execution_count": 24,
   "metadata": {},
   "outputs": [],
   "source": [
    "# Create lists for each of the input lists\n",
    "stack_1 = ['L', 'N', 'W', 'T', 'D']\n",
    "stack_2 = ['C', 'P', 'H']\n",
    "stack_3 = ['W', 'P', 'H', 'N', 'D', 'G', 'M', 'J']\n",
    "stack_4 = ['C', 'W', 'S', 'N', 'T', 'Q', 'L']\n",
    "stack_5 = ['P', 'H', 'C', 'N']\n",
    "stack_6 = ['T', 'H', 'N', 'D', 'M', 'W', 'Q', 'B']\n",
    "stack_7 = ['M', 'B', 'R', 'J', 'G', 'S', 'L']\n",
    "stack_8 = ['Z', 'N', 'W', 'G', 'V', 'B', 'R', 'T']\n",
    "stack_9 = ['W', 'G', 'D', 'N', 'P', 'L']\n",
    "all_stacks = [stack_1, stack_2, stack_3, stack_4, stack_5, stack_6, stack_7, stack_8, stack_9]"
   ]
  },
  {
   "cell_type": "code",
   "execution_count": 3,
   "metadata": {},
   "outputs": [],
   "source": [
    "with open('/Users/williamkirkland/Data/KDS/adventofcode/2022/data/day5.txt') as file:\n",
    "    master_list = [line.rstrip() for line in file]"
   ]
  },
  {
   "cell_type": "code",
   "execution_count": 7,
   "metadata": {},
   "outputs": [],
   "source": [
    "extracted_ints = []\n",
    "for line in master_list:\n",
    "    string_ints = re.findall(r'\\d+', line)\n",
    "    extracted_ints.append([int(x) for x in string_ints])"
   ]
  },
  {
   "cell_type": "code",
   "execution_count": 9,
   "metadata": {},
   "outputs": [
    {
     "data": {
      "text/plain": [
       "[[6, 6, 5], [2, 5, 9], [8, 9, 1], [3, 5, 4], [9, 1, 8]]"
      ]
     },
     "execution_count": 9,
     "metadata": {},
     "output_type": "execute_result"
    }
   ],
   "source": [
    "extracted_ints[0:5]"
   ]
  },
  {
   "cell_type": "code",
   "execution_count": 40,
   "metadata": {},
   "outputs": [],
   "source": [
    "def move_crates(quantity, origin, destination, all_lists):\n",
    "    for n in range(0, quantity):\n",
    "        item_to_move = all_lists[origin-1].pop()\n",
    "        all_lists[destination-1].append(item_to_move)\n",
    "    return all_lists"
   ]
  },
  {
   "cell_type": "code",
   "execution_count": 41,
   "metadata": {},
   "outputs": [],
   "source": [
    "l = ['A', 'B', 'C', 'D']\n",
    "m = ['E', 'F', 'G', 'H']\n",
    "all = [l, m]\n",
    "all_edited = move_crates(3, 1, 2, all)\n",
    "assert(all_edited == [['A'], ['E', 'F', 'G', 'H', 'D', 'C', 'B']])\n"
   ]
  },
  {
   "cell_type": "code",
   "execution_count": 42,
   "metadata": {},
   "outputs": [
    {
     "data": {
      "text/plain": [
       "501"
      ]
     },
     "execution_count": 42,
     "metadata": {},
     "output_type": "execute_result"
    }
   ],
   "source": [
    "len(extracted_ints)"
   ]
  },
  {
   "cell_type": "code",
   "execution_count": 45,
   "metadata": {},
   "outputs": [],
   "source": [
    "# Create lists for each of the input lists\n",
    "stack_1 = ['L', 'N', 'W', 'T', 'D']\n",
    "stack_2 = ['C', 'P', 'H']\n",
    "stack_3 = ['W', 'P', 'H', 'N', 'D', 'G', 'M', 'J']\n",
    "stack_4 = ['C', 'W', 'S', 'N', 'T', 'Q', 'L']\n",
    "stack_5 = ['P', 'H', 'C', 'N']\n",
    "stack_6 = ['T', 'H', 'N', 'D', 'M', 'W', 'Q', 'B']\n",
    "stack_7 = ['M', 'B', 'R', 'J', 'G', 'S', 'L']\n",
    "stack_8 = ['Z', 'N', 'W', 'G', 'V', 'B', 'R', 'T']\n",
    "stack_9 = ['W', 'G', 'D', 'N', 'P', 'L']\n",
    "all_stacks = [stack_1, stack_2, stack_3, stack_4, stack_5, stack_6, stack_7, stack_8, stack_9]"
   ]
  },
  {
   "cell_type": "code",
   "execution_count": 46,
   "metadata": {},
   "outputs": [],
   "source": [
    "for instruction in extracted_ints:\n",
    "    all_stacks = move_crates(instruction[0], instruction[1], instruction[2], all_stacks)"
   ]
  },
  {
   "cell_type": "code",
   "execution_count": 47,
   "metadata": {},
   "outputs": [
    {
     "data": {
      "text/plain": [
       "[['T'],\n",
       " ['W'],\n",
       " ['W', 'J', 'N', 'S'],\n",
       " ['N', 'M', 'V', 'R', 'D', 'N', 'H', 'Z', 'T', 'P', 'J', 'G'],\n",
       " ['L', 'C', 'Q'],\n",
       " ['M', 'W', 'B', 'W', 'D', 'P', 'H'],\n",
       " ['S',\n",
       "  'P',\n",
       "  'G',\n",
       "  'N',\n",
       "  'C',\n",
       "  'G',\n",
       "  'M',\n",
       "  'H',\n",
       "  'N',\n",
       "  'L',\n",
       "  'W',\n",
       "  'T',\n",
       "  'N',\n",
       "  'D',\n",
       "  'T',\n",
       "  'W',\n",
       "  'G',\n",
       "  'R',\n",
       "  'N'],\n",
       " ['Q', 'D', 'H'],\n",
       " ['P', 'B', 'B', 'L', 'C', 'L']]"
      ]
     },
     "execution_count": 47,
     "metadata": {},
     "output_type": "execute_result"
    }
   ],
   "source": [
    "all_stacks"
   ]
  },
  {
   "cell_type": "code",
   "execution_count": 48,
   "metadata": {},
   "outputs": [],
   "source": [
    "top_stack = ''\n",
    "for line in all_stacks:\n",
    "    top_stack += line[-1]"
   ]
  },
  {
   "cell_type": "code",
   "execution_count": 49,
   "metadata": {},
   "outputs": [
    {
     "data": {
      "text/plain": [
       "'TWSGQHNHL'"
      ]
     },
     "execution_count": 49,
     "metadata": {},
     "output_type": "execute_result"
    }
   ],
   "source": [
    "top_stack"
   ]
  },
  {
   "cell_type": "code",
   "execution_count": 85,
   "metadata": {},
   "outputs": [],
   "source": [
    "def move_crates_9001(quantity, origin, destination, all_lists):\n",
    "    # Select crates to move\n",
    "    crates_to_move = all_lists[origin-1][-quantity:]\n",
    "    # Add to new list\n",
    "    all_lists[destination-1].extend(crates_to_move)\n",
    "    # Remove from original list\n",
    "    all_lists[origin-1] = all_lists[origin-1][:-quantity]\n",
    "    \n",
    "    return all_lists"
   ]
  },
  {
   "cell_type": "code",
   "execution_count": 86,
   "metadata": {},
   "outputs": [],
   "source": [
    "l = ['A', 'B', 'C', 'D']\n",
    "m = ['E', 'F', 'G', 'H']\n",
    "all = [l, m]"
   ]
  },
  {
   "cell_type": "code",
   "execution_count": 87,
   "metadata": {},
   "outputs": [
    {
     "name": "stdout",
     "output_type": "stream",
     "text": [
      "ALL EDITED:  [['A'], ['E', 'F', 'G', 'H', 'B', 'C', 'D']]\n"
     ]
    }
   ],
   "source": [
    "all_edited = move_crates_9001(3, 1, 2, all)\n",
    "print(\"ALL EDITED: \", all_edited)\n",
    "assert(all_edited == [['A'], ['E', 'F', 'G', 'H', 'B', 'C', 'D']])"
   ]
  },
  {
   "cell_type": "code",
   "execution_count": 89,
   "metadata": {},
   "outputs": [],
   "source": [
    "# Create lists for each of the input lists\n",
    "stack_1 = ['L', 'N', 'W', 'T', 'D']\n",
    "stack_2 = ['C', 'P', 'H']\n",
    "stack_3 = ['W', 'P', 'H', 'N', 'D', 'G', 'M', 'J']\n",
    "stack_4 = ['C', 'W', 'S', 'N', 'T', 'Q', 'L']\n",
    "stack_5 = ['P', 'H', 'C', 'N']\n",
    "stack_6 = ['T', 'H', 'N', 'D', 'M', 'W', 'Q', 'B']\n",
    "stack_7 = ['M', 'B', 'R', 'J', 'G', 'S', 'L']\n",
    "stack_8 = ['Z', 'N', 'W', 'G', 'V', 'B', 'R', 'T']\n",
    "stack_9 = ['W', 'G', 'D', 'N', 'P', 'L']\n",
    "all_stacks = [stack_1, stack_2, stack_3, stack_4, stack_5, stack_6, stack_7, stack_8, stack_9]"
   ]
  },
  {
   "cell_type": "code",
   "execution_count": 90,
   "metadata": {},
   "outputs": [
    {
     "data": {
      "text/plain": [
       "'JNRSCDWPP'"
      ]
     },
     "execution_count": 90,
     "metadata": {},
     "output_type": "execute_result"
    }
   ],
   "source": [
    "for instruction in extracted_ints:\n",
    "    all_stacks = move_crates_9001(instruction[0], instruction[1], instruction[2], all_stacks)\n",
    "\n",
    "top_stack = ''\n",
    "for line in all_stacks:\n",
    "    top_stack += line[-1]\n",
    "\n",
    "top_stack"
   ]
  },
  {
   "cell_type": "code",
   "execution_count": null,
   "metadata": {},
   "outputs": [],
   "source": []
  }
 ],
 "metadata": {
  "kernelspec": {
   "display_name": "Python 3.7.6",
   "language": "python",
   "name": "python3"
  },
  "language_info": {
   "codemirror_mode": {
    "name": "ipython",
    "version": 3
   },
   "file_extension": ".py",
   "mimetype": "text/x-python",
   "name": "python",
   "nbconvert_exporter": "python",
   "pygments_lexer": "ipython3",
   "version": "3.7.6"
  },
  "orig_nbformat": 4,
  "vscode": {
   "interpreter": {
    "hash": "40d3a090f54c6569ab1632332b64b2c03c39dcf918b08424e98f38b5ae0af88f"
   }
  }
 },
 "nbformat": 4,
 "nbformat_minor": 2
}

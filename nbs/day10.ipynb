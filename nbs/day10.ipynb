{
 "cells": [
  {
   "attachments": {},
   "cell_type": "markdown",
   "metadata": {},
   "source": [
    "# Day 10"
   ]
  },
  {
   "cell_type": "code",
   "execution_count": 106,
   "metadata": {},
   "outputs": [],
   "source": [
    "import pandas as pd\n",
    "import numpy as np\n",
    "from tqdm import tqdm"
   ]
  },
  {
   "cell_type": "code",
   "execution_count": 107,
   "metadata": {},
   "outputs": [],
   "source": [
    "with open('/Users/williamkirkland/Data/KDS/adventofcode/2022/data/day10.txt') as file:\n",
    "    master_list = [line.rstrip() for line in file]"
   ]
  },
  {
   "cell_type": "code",
   "execution_count": 108,
   "metadata": {},
   "outputs": [
    {
     "data": {
      "text/plain": [
       "[[0, 0], [0, 0], [1, 5], [1, 3], [1, -2]]"
      ]
     },
     "execution_count": 108,
     "metadata": {},
     "output_type": "execute_result"
    }
   ],
   "source": [
    "cmd_map = {\n",
    "    \"addx\": 1,\n",
    "    \"noop\": 0\n",
    "}\n",
    "\n",
    "program = []\n",
    "\n",
    "for p in master_list:\n",
    "    p_split = p.split()\n",
    "    cmd = cmd_map[p_split[0]]\n",
    "    if cmd == 1:\n",
    "        v = int(p_split[1])\n",
    "    else:\n",
    "        v = 0\n",
    "    program.append([cmd, v])\n",
    "\n",
    "program[0:5]"
   ]
  },
  {
   "cell_type": "code",
   "execution_count": 109,
   "metadata": {},
   "outputs": [],
   "source": [
    "class Clock():\n",
    "    def __init__(self):\n",
    "        self.cycle = 1\n",
    "        self.register = 1\n",
    "        self.state = []\n",
    "        self.sprite = []\n",
    "\n",
    "    def store_state(self):\n",
    "        sprite = [self.register - 1, self.register, self.register +1]\n",
    "        state = [self.cycle, self.register, sprite]\n",
    "        self.state.append(state)\n",
    "        return\n",
    "\n",
    "    def noop(self):\n",
    "        # Store current state\n",
    "        self.store_state()\n",
    "\n",
    "        # Update cycle\n",
    "        self.cycle += 1\n",
    "        return\n",
    "\n",
    "    def addx(self, x):\n",
    "        # Store current state\n",
    "        self.store_state()\n",
    "\n",
    "        # Add value\n",
    "        self.register += x\n",
    "\n",
    "        # Update cycle\n",
    "        self.cycle += 1\n",
    "\n",
    "    def run_instruction(self, instruction):\n",
    "        if instruction[0] == 0:\n",
    "            self.noop()\n",
    "\n",
    "        elif instruction[0] == 1:\n",
    "            # First cycle is noop\n",
    "            self.noop()\n",
    "\n",
    "            # Then addx\n",
    "            self.addx(instruction[1])\n",
    "\n",
    "        return\n",
    "\n",
    "    def run_program(self, instructions):\n",
    "        for i in instructions:\n",
    "            self.run_instruction(i)\n",
    "        return\n",
    "\n",
    "    def signal_strength(self, start_cycle, cycle_mod):\n",
    "        strengths = []\n",
    "\n",
    "        starting_state = self.state[start_cycle-1]\n",
    "        strength = starting_state[0] * starting_state[1]\n",
    "        strengths.append(strength)\n",
    "\n",
    "        shifted_state = self.state[start_cycle:]\n",
    "        for idx, state in enumerate(shifted_state):\n",
    "            state_idx = idx + 1\n",
    "            if state_idx % cycle_mod == 0:\n",
    "                # Calculate strength\n",
    "                strength = state[0] * state[1]\n",
    "                strengths.append(strength)\n",
    "        return strengths\n",
    "\n"
   ]
  },
  {
   "cell_type": "code",
   "execution_count": 110,
   "metadata": {},
   "outputs": [],
   "source": [
    "c = Clock()"
   ]
  },
  {
   "cell_type": "code",
   "execution_count": 111,
   "metadata": {},
   "outputs": [],
   "source": [
    "c.run_program(program)"
   ]
  },
  {
   "cell_type": "code",
   "execution_count": 112,
   "metadata": {},
   "outputs": [
    {
     "name": "stdout",
     "output_type": "stream",
     "text": [
      "[420, 960, 2100, 2240, 2880, 4620]\n",
      "SUM OF STRENGHTS:  13220\n"
     ]
    }
   ],
   "source": [
    "strengths = c.signal_strength(20, 40)\n",
    "print(strengths)\n",
    "print(\"SUM OF STRENGHTS: \", sum(strengths))"
   ]
  },
  {
   "cell_type": "code",
   "execution_count": 115,
   "metadata": {},
   "outputs": [],
   "source": [
    "def print_crt(state):\n",
    "    sprites = [x[2] for x in state]\n",
    "    rows = []\n",
    "    counter = 0\n",
    "    for r in range(0,6):\n",
    "        current_row = \"\"\n",
    "        for n in range(0,40):\n",
    "            if n in sprites[counter]:\n",
    "                current_row += '#'\n",
    "            else:\n",
    "                current_row += '.'\n",
    "            counter += 1\n",
    "        print(current_row)\n",
    "\n",
    "    return"
   ]
  },
  {
   "cell_type": "code",
   "execution_count": 116,
   "metadata": {},
   "outputs": [
    {
     "name": "stdout",
     "output_type": "stream",
     "text": [
      "###..#..#..##..#..#.#..#.###..####.#..#.\n",
      "#..#.#..#.#..#.#.#..#..#.#..#.#....#.#..\n",
      "#..#.#..#.#..#.##...####.###..###..##...\n",
      "###..#..#.####.#.#..#..#.#..#.#....#.#..\n",
      "#.#..#..#.#..#.#.#..#..#.#..#.#....#.#..\n",
      "#..#..##..#..#.#..#.#..#.###..####.#..#.\n"
     ]
    }
   ],
   "source": [
    "print_crt(c.state)"
   ]
  },
  {
   "cell_type": "code",
   "execution_count": null,
   "metadata": {},
   "outputs": [],
   "source": []
  }
 ],
 "metadata": {
  "kernelspec": {
   "display_name": "Python 3.7.6",
   "language": "python",
   "name": "python3"
  },
  "language_info": {
   "codemirror_mode": {
    "name": "ipython",
    "version": 3
   },
   "file_extension": ".py",
   "mimetype": "text/x-python",
   "name": "python",
   "nbconvert_exporter": "python",
   "pygments_lexer": "ipython3",
   "version": "3.7.6"
  },
  "orig_nbformat": 4,
  "vscode": {
   "interpreter": {
    "hash": "40d3a090f54c6569ab1632332b64b2c03c39dcf918b08424e98f38b5ae0af88f"
   }
  }
 },
 "nbformat": 4,
 "nbformat_minor": 2
}
